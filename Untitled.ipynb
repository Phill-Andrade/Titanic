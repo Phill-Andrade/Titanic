{
 "cells": [
  {
   "cell_type": "markdown",
   "id": "79bf73c3-8ab3-46dc-8146-2138a5ca89d0",
   "metadata": {},
   "source": [
    "## Imports"
   ]
  },
  {
   "cell_type": "code",
   "execution_count": 1,
   "id": "7dc86363-3171-41ef-a84e-985c585eedad",
   "metadata": {},
   "outputs": [],
   "source": [
    "import numpy as np\n",
    "import pandas as pd\n",
    "import seaborn as sns\n",
    "import matplotlib.pyplot as plt\n",
    "import plotly.express as px\n",
    "from sklearn.preprocessing import StandardScaler\n",
    "from category_encoders import TargetEncoder\n",
    "from sklearn.preprocessing import LabelEncoder\n",
    "from sklearn.neighbors import KNeighborsClassifier\n",
    "from sklearn.linear_model import LogisticRegression\n",
    "from sklearn.naive_bayes import GaussianNB\n",
    "from sklearn.ensemble import RandomForestClassifier\n",
    "from sklearn.metrics import accuracy_score, f1_score, classification_report\n",
    "from sklearn.model_selection import train_test_split"
   ]
  },
  {
   "cell_type": "markdown",
   "id": "13b09895-d5ae-45ac-80df-7594eeed7d1d",
   "metadata": {},
   "source": [
    "## Extract"
   ]
  },
  {
   "cell_type": "code",
   "execution_count": 2,
   "id": "76ecefc5-5e0f-43f3-a2bb-67e724f5de1d",
   "metadata": {},
   "outputs": [],
   "source": [
    "df = pd.read_csv(r'~\\projects\\Titanic\\titanic\\train.csv')"
   ]
  },
  {
   "cell_type": "code",
   "execution_count": 43,
   "id": "5f299bdf-d4a4-4c89-af39-ce0abf82e60b",
   "metadata": {},
   "outputs": [
    {
     "data": {
      "text/html": [
       "<div>\n",
       "<style scoped>\n",
       "    .dataframe tbody tr th:only-of-type {\n",
       "        vertical-align: middle;\n",
       "    }\n",
       "\n",
       "    .dataframe tbody tr th {\n",
       "        vertical-align: top;\n",
       "    }\n",
       "\n",
       "    .dataframe thead th {\n",
       "        text-align: right;\n",
       "    }\n",
       "</style>\n",
       "<table border=\"1\" class=\"dataframe\">\n",
       "  <thead>\n",
       "    <tr style=\"text-align: right;\">\n",
       "      <th></th>\n",
       "      <th>PassengerId</th>\n",
       "      <th>Survived</th>\n",
       "      <th>Pclass</th>\n",
       "      <th>Name</th>\n",
       "      <th>Sex</th>\n",
       "      <th>Age</th>\n",
       "      <th>SibSp</th>\n",
       "      <th>Parch</th>\n",
       "      <th>Ticket</th>\n",
       "      <th>Fare</th>\n",
       "      <th>Cabin</th>\n",
       "      <th>Embarked</th>\n",
       "    </tr>\n",
       "  </thead>\n",
       "  <tbody>\n",
       "    <tr>\n",
       "      <th>0</th>\n",
       "      <td>1</td>\n",
       "      <td>0</td>\n",
       "      <td>3</td>\n",
       "      <td>Braund, Mr. Owen Harris</td>\n",
       "      <td>male</td>\n",
       "      <td>22.0</td>\n",
       "      <td>1</td>\n",
       "      <td>0</td>\n",
       "      <td>A/5 21171</td>\n",
       "      <td>7.2500</td>\n",
       "      <td>NaN</td>\n",
       "      <td>S</td>\n",
       "    </tr>\n",
       "    <tr>\n",
       "      <th>1</th>\n",
       "      <td>2</td>\n",
       "      <td>1</td>\n",
       "      <td>1</td>\n",
       "      <td>Cumings, Mrs. John Bradley (Florence Briggs Th...</td>\n",
       "      <td>female</td>\n",
       "      <td>38.0</td>\n",
       "      <td>1</td>\n",
       "      <td>0</td>\n",
       "      <td>PC 17599</td>\n",
       "      <td>71.2833</td>\n",
       "      <td>C85</td>\n",
       "      <td>C</td>\n",
       "    </tr>\n",
       "    <tr>\n",
       "      <th>2</th>\n",
       "      <td>3</td>\n",
       "      <td>1</td>\n",
       "      <td>3</td>\n",
       "      <td>Heikkinen, Miss. Laina</td>\n",
       "      <td>female</td>\n",
       "      <td>26.0</td>\n",
       "      <td>0</td>\n",
       "      <td>0</td>\n",
       "      <td>STON/O2. 3101282</td>\n",
       "      <td>7.9250</td>\n",
       "      <td>NaN</td>\n",
       "      <td>S</td>\n",
       "    </tr>\n",
       "    <tr>\n",
       "      <th>3</th>\n",
       "      <td>4</td>\n",
       "      <td>1</td>\n",
       "      <td>1</td>\n",
       "      <td>Futrelle, Mrs. Jacques Heath (Lily May Peel)</td>\n",
       "      <td>female</td>\n",
       "      <td>35.0</td>\n",
       "      <td>1</td>\n",
       "      <td>0</td>\n",
       "      <td>113803</td>\n",
       "      <td>53.1000</td>\n",
       "      <td>C123</td>\n",
       "      <td>S</td>\n",
       "    </tr>\n",
       "    <tr>\n",
       "      <th>4</th>\n",
       "      <td>5</td>\n",
       "      <td>0</td>\n",
       "      <td>3</td>\n",
       "      <td>Allen, Mr. William Henry</td>\n",
       "      <td>male</td>\n",
       "      <td>35.0</td>\n",
       "      <td>0</td>\n",
       "      <td>0</td>\n",
       "      <td>373450</td>\n",
       "      <td>8.0500</td>\n",
       "      <td>NaN</td>\n",
       "      <td>S</td>\n",
       "    </tr>\n",
       "  </tbody>\n",
       "</table>\n",
       "</div>"
      ],
      "text/plain": [
       "   PassengerId  Survived  Pclass  \\\n",
       "0            1         0       3   \n",
       "1            2         1       1   \n",
       "2            3         1       3   \n",
       "3            4         1       1   \n",
       "4            5         0       3   \n",
       "\n",
       "                                                Name     Sex   Age  SibSp  \\\n",
       "0                            Braund, Mr. Owen Harris    male  22.0      1   \n",
       "1  Cumings, Mrs. John Bradley (Florence Briggs Th...  female  38.0      1   \n",
       "2                             Heikkinen, Miss. Laina  female  26.0      0   \n",
       "3       Futrelle, Mrs. Jacques Heath (Lily May Peel)  female  35.0      1   \n",
       "4                           Allen, Mr. William Henry    male  35.0      0   \n",
       "\n",
       "   Parch            Ticket     Fare Cabin Embarked  \n",
       "0      0         A/5 21171   7.2500   NaN        S  \n",
       "1      0          PC 17599  71.2833   C85        C  \n",
       "2      0  STON/O2. 3101282   7.9250   NaN        S  \n",
       "3      0            113803  53.1000  C123        S  \n",
       "4      0            373450   8.0500   NaN        S  "
      ]
     },
     "execution_count": 43,
     "metadata": {},
     "output_type": "execute_result"
    }
   ],
   "source": [
    "df.head()"
   ]
  },
  {
   "cell_type": "code",
   "execution_count": 4,
   "id": "4d1dba21-0c06-4241-b1c1-935b3ec580ee",
   "metadata": {},
   "outputs": [
    {
     "name": "stdout",
     "output_type": "stream",
     "text": [
      "<class 'pandas.core.frame.DataFrame'>\n",
      "RangeIndex: 891 entries, 0 to 890\n",
      "Data columns (total 12 columns):\n",
      " #   Column       Non-Null Count  Dtype  \n",
      "---  ------       --------------  -----  \n",
      " 0   PassengerId  891 non-null    int64  \n",
      " 1   Survived     891 non-null    int64  \n",
      " 2   Pclass       891 non-null    int64  \n",
      " 3   Name         891 non-null    object \n",
      " 4   Sex          891 non-null    object \n",
      " 5   Age          714 non-null    float64\n",
      " 6   SibSp        891 non-null    int64  \n",
      " 7   Parch        891 non-null    int64  \n",
      " 8   Ticket       891 non-null    object \n",
      " 9   Fare         891 non-null    float64\n",
      " 10  Cabin        204 non-null    object \n",
      " 11  Embarked     889 non-null    object \n",
      "dtypes: float64(2), int64(5), object(5)\n",
      "memory usage: 83.7+ KB\n"
     ]
    }
   ],
   "source": [
    "df.info()"
   ]
  },
  {
   "cell_type": "code",
   "execution_count": 12,
   "id": "2e72169a-c766-4a45-8ab2-a4e1c8ef2a22",
   "metadata": {},
   "outputs": [
    {
     "data": {
      "text/plain": [
       "PassengerId    891\n",
       "Survived         2\n",
       "Pclass           3\n",
       "Name           891\n",
       "Sex              2\n",
       "Age             88\n",
       "SibSp            7\n",
       "Parch            7\n",
       "Ticket         681\n",
       "Fare           248\n",
       "Cabin          147\n",
       "Embarked         3\n",
       "dtype: int64"
      ]
     },
     "execution_count": 12,
     "metadata": {},
     "output_type": "execute_result"
    }
   ],
   "source": [
    "df.nunique()"
   ]
  },
  {
   "cell_type": "markdown",
   "id": "1382306c-3620-4ab0-96d3-1bc05b9dd524",
   "metadata": {},
   "source": [
    "### Feature engineer"
   ]
  },
  {
   "cell_type": "markdown",
   "id": "b69f6402-1e99-46e7-87a4-1d06d403fbeb",
   "metadata": {},
   "source": [
    "#### Title passengers"
   ]
  },
  {
   "cell_type": "code",
   "execution_count": 3,
   "id": "c71c34f0-09d9-4688-9d7a-1392b8cb0171",
   "metadata": {},
   "outputs": [
    {
     "name": "stdout",
     "output_type": "stream",
     "text": [
      "Master\n"
     ]
    }
   ],
   "source": [
    "def collect_title(name):\n",
    "    initial_index = name.find(', ')\n",
    "    initial_index += 2\n",
    "    final_index = name.find('.') \n",
    "    return name[initial_index:final_index]\n",
    "\n",
    "\n",
    "name = 'Goodwin, Master. William Frederick'\n",
    "print(collect_title(name))"
   ]
  },
  {
   "cell_type": "code",
   "execution_count": 4,
   "id": "ad9f5676-ba1b-4b1d-ab3a-90fa1489a533",
   "metadata": {},
   "outputs": [],
   "source": [
    "df['Title'] = df['Name'].apply(collect_title)"
   ]
  },
  {
   "cell_type": "markdown",
   "id": "f4153a60-8926-43b6-a88e-ac87aa58d68d",
   "metadata": {},
   "source": [
    "## Preprocessing"
   ]
  },
  {
   "cell_type": "markdown",
   "id": "8a4513d3-fd9d-4a31-a1fb-56fb67d47237",
   "metadata": {},
   "source": [
    "### data wrangling"
   ]
  },
  {
   "cell_type": "code",
   "execution_count": 5,
   "id": "ec04a471-9288-4413-938e-7c5765106dc7",
   "metadata": {},
   "outputs": [],
   "source": [
    "# separação x e y\n",
    "features = ['Pclass', 'Title', 'Sex', 'Age', 'SibSp', 'Parch', 'Ticket', 'Fare', 'Embarked']\n",
    "x = df[features].copy()\n",
    "y = df['Survived'].copy()"
   ]
  },
  {
   "cell_type": "markdown",
   "id": "ff5ca357-7bac-4584-b15d-7665eb1d61b3",
   "metadata": {},
   "source": [
    "#### Treatment of missing values"
   ]
  },
  {
   "cell_type": "code",
   "execution_count": 12,
   "id": "a07185a4-3d6d-4a24-8d0d-4bb1efee8dfe",
   "metadata": {},
   "outputs": [
    {
     "data": {
      "text/plain": [
       "Pclass      0\n",
       "Title       0\n",
       "Sex         0\n",
       "Age         0\n",
       "SibSp       0\n",
       "Parch       0\n",
       "Ticket      0\n",
       "Fare        0\n",
       "Embarked    0\n",
       "dtype: int64"
      ]
     },
     "execution_count": 12,
     "metadata": {},
     "output_type": "execute_result"
    }
   ],
   "source": [
    "x.isnull().sum()"
   ]
  },
  {
   "cell_type": "code",
   "execution_count": 6,
   "id": "06f1bedb-1db7-4bd0-9735-2eecdf52e478",
   "metadata": {},
   "outputs": [],
   "source": [
    "x['Embarked'].fillna(x['Embarked'].mode().values[0], inplace=True)"
   ]
  },
  {
   "cell_type": "code",
   "execution_count": 7,
   "id": "8d84f281-383d-450b-9135-9f3d315115a9",
   "metadata": {},
   "outputs": [],
   "source": [
    "x['Age'].fillna(x['Age'].mean(), inplace = True)"
   ]
  },
  {
   "cell_type": "code",
   "execution_count": 8,
   "id": "c9e96656-0ce9-4910-9c85-c8523acf53eb",
   "metadata": {},
   "outputs": [],
   "source": [
    "# split\n",
    "x_train, x_test, y_train, y_test = train_test_split(x, y, test_size=.3)"
   ]
  },
  {
   "cell_type": "code",
   "execution_count": 18,
   "id": "7f4d261f-c7fd-42a0-9d63-0025b731bcc9",
   "metadata": {},
   "outputs": [
    {
     "data": {
      "text/plain": [
       "0"
      ]
     },
     "execution_count": 18,
     "metadata": {},
     "output_type": "execute_result"
    }
   ],
   "source": [
    "x_train"
   ]
  },
  {
   "cell_type": "markdown",
   "id": "31658ab5-b810-40c4-8b30-a15ca76ef405",
   "metadata": {},
   "source": [
    "## baseline"
   ]
  },
  {
   "cell_type": "code",
   "execution_count": 34,
   "id": "078814d0-1ac8-41f0-a2b4-472bf78a3ffc",
   "metadata": {},
   "outputs": [],
   "source": [
    "index_female = x_train[x_train.Sex == 'female'].index\n",
    "sum_female = y_train[index_female].sum()"
   ]
  },
  {
   "cell_type": "code",
   "execution_count": 38,
   "id": "0047181d-d97d-4537-b1ab-1412ec1a4dfc",
   "metadata": {},
   "outputs": [],
   "source": [
    "index_male = x_train[x_train.Sex == 'male'].index\n",
    "sum_male = y_train[index_male].sum()"
   ]
  },
  {
   "cell_type": "code",
   "execution_count": 37,
   "id": "ab4ba4fc-8dc9-4bb1-96cf-5eb6f4631aff",
   "metadata": {},
   "outputs": [
    {
     "data": {
      "text/plain": [
       "0.759090909090909"
      ]
     },
     "execution_count": 37,
     "metadata": {},
     "output_type": "execute_result"
    }
   ],
   "source": [
    "sum_female / x_train[x_train.Sex == 'female'].shape[0]"
   ]
  },
  {
   "cell_type": "code",
   "execution_count": 39,
   "id": "c6cd6808-f7b1-4cee-b9c6-008f3fd281a0",
   "metadata": {},
   "outputs": [
    {
     "data": {
      "text/plain": [
       "0.18858560794044665"
      ]
     },
     "execution_count": 39,
     "metadata": {},
     "output_type": "execute_result"
    }
   ],
   "source": [
    "sum_male / x_train[x_train.Sex == 'male'].shape[0]"
   ]
  },
  {
   "cell_type": "code",
   "execution_count": 41,
   "id": "8dfa0a38-f771-4a68-94f1-bb3601cc7d04",
   "metadata": {},
   "outputs": [
    {
     "data": {
      "text/plain": [
       "0.7213822894168467"
      ]
     },
     "execution_count": 41,
     "metadata": {},
     "output_type": "execute_result"
    }
   ],
   "source": [
    "# minha heuristica... se for mulher... sobrevive!\n",
    "def survive_if_woman(x_train):\n",
    "    if x_train.Sex == 'female':\n",
    "        return 1\n",
    "    return 0\n",
    "\n",
    "predictions = x_train.apply(survive_if_woman, axis=1)\n",
    "f1_score(y_train, predictions)"
   ]
  },
  {
   "cell_type": "markdown",
   "id": "aa3cce46-85f9-44a2-aef4-3219fe34e804",
   "metadata": {},
   "source": [
    "### Target encoder"
   ]
  },
  {
   "cell_type": "code",
   "execution_count": 42,
   "id": "20a9dda1-32a8-4b7a-8c62-a1aae96cd72b",
   "metadata": {},
   "outputs": [],
   "source": [
    "category_features = ['Title', 'Sex', 'Ticket', 'Embarked']\n",
    "num_features = ['Pclass', 'Age', 'SibSp', 'Parch', 'Fare']"
   ]
  },
  {
   "cell_type": "code",
   "execution_count": 43,
   "id": "b08aa0df-bfe4-4849-90ad-5397879feaed",
   "metadata": {},
   "outputs": [],
   "source": [
    "encoder = TargetEncoder(cols=category_features)\n",
    "encoder.fit(x_train, y_train)\n",
    "\n",
    "x_train = encoder.transform(x_train)\n",
    "x_test = encoder.transform(x_test)"
   ]
  },
  {
   "cell_type": "code",
   "execution_count": 44,
   "id": "427387ab-403f-4d86-87d1-70ce2215a08f",
   "metadata": {},
   "outputs": [
    {
     "data": {
      "text/html": [
       "<div>\n",
       "<style scoped>\n",
       "    .dataframe tbody tr th:only-of-type {\n",
       "        vertical-align: middle;\n",
       "    }\n",
       "\n",
       "    .dataframe tbody tr th {\n",
       "        vertical-align: top;\n",
       "    }\n",
       "\n",
       "    .dataframe thead th {\n",
       "        text-align: right;\n",
       "    }\n",
       "</style>\n",
       "<table border=\"1\" class=\"dataframe\">\n",
       "  <thead>\n",
       "    <tr style=\"text-align: right;\">\n",
       "      <th></th>\n",
       "      <th>Pclass</th>\n",
       "      <th>Title</th>\n",
       "      <th>Sex</th>\n",
       "      <th>Age</th>\n",
       "      <th>SibSp</th>\n",
       "      <th>Parch</th>\n",
       "      <th>Ticket</th>\n",
       "      <th>Fare</th>\n",
       "      <th>Embarked</th>\n",
       "    </tr>\n",
       "  </thead>\n",
       "  <tbody>\n",
       "    <tr>\n",
       "      <th>497</th>\n",
       "      <td>3</td>\n",
       "      <td>0.152778</td>\n",
       "      <td>0.188586</td>\n",
       "      <td>29.699118</td>\n",
       "      <td>0</td>\n",
       "      <td>0</td>\n",
       "      <td>0.390048</td>\n",
       "      <td>15.1000</td>\n",
       "      <td>0.348214</td>\n",
       "    </tr>\n",
       "    <tr>\n",
       "      <th>365</th>\n",
       "      <td>3</td>\n",
       "      <td>0.152778</td>\n",
       "      <td>0.188586</td>\n",
       "      <td>30.000000</td>\n",
       "      <td>0</td>\n",
       "      <td>0</td>\n",
       "      <td>0.390048</td>\n",
       "      <td>7.2500</td>\n",
       "      <td>0.348214</td>\n",
       "    </tr>\n",
       "    <tr>\n",
       "      <th>319</th>\n",
       "      <td>1</td>\n",
       "      <td>0.782609</td>\n",
       "      <td>0.759091</td>\n",
       "      <td>40.000000</td>\n",
       "      <td>1</td>\n",
       "      <td>1</td>\n",
       "      <td>0.835959</td>\n",
       "      <td>134.5000</td>\n",
       "      <td>0.546218</td>\n",
       "    </tr>\n",
       "    <tr>\n",
       "      <th>491</th>\n",
       "      <td>3</td>\n",
       "      <td>0.152778</td>\n",
       "      <td>0.188586</td>\n",
       "      <td>21.000000</td>\n",
       "      <td>0</td>\n",
       "      <td>0</td>\n",
       "      <td>0.390048</td>\n",
       "      <td>7.2500</td>\n",
       "      <td>0.348214</td>\n",
       "    </tr>\n",
       "    <tr>\n",
       "      <th>176</th>\n",
       "      <td>3</td>\n",
       "      <td>0.580645</td>\n",
       "      <td>0.188586</td>\n",
       "      <td>29.699118</td>\n",
       "      <td>3</td>\n",
       "      <td>1</td>\n",
       "      <td>0.104900</td>\n",
       "      <td>25.4667</td>\n",
       "      <td>0.348214</td>\n",
       "    </tr>\n",
       "    <tr>\n",
       "      <th>...</th>\n",
       "      <td>...</td>\n",
       "      <td>...</td>\n",
       "      <td>...</td>\n",
       "      <td>...</td>\n",
       "      <td>...</td>\n",
       "      <td>...</td>\n",
       "      <td>...</td>\n",
       "      <td>...</td>\n",
       "      <td>...</td>\n",
       "    </tr>\n",
       "    <tr>\n",
       "      <th>246</th>\n",
       "      <td>3</td>\n",
       "      <td>0.736000</td>\n",
       "      <td>0.759091</td>\n",
       "      <td>25.000000</td>\n",
       "      <td>0</td>\n",
       "      <td>0</td>\n",
       "      <td>0.390048</td>\n",
       "      <td>7.7750</td>\n",
       "      <td>0.348214</td>\n",
       "    </tr>\n",
       "    <tr>\n",
       "      <th>314</th>\n",
       "      <td>2</td>\n",
       "      <td>0.152778</td>\n",
       "      <td>0.188586</td>\n",
       "      <td>43.000000</td>\n",
       "      <td>1</td>\n",
       "      <td>1</td>\n",
       "      <td>0.633693</td>\n",
       "      <td>26.2500</td>\n",
       "      <td>0.348214</td>\n",
       "    </tr>\n",
       "    <tr>\n",
       "      <th>559</th>\n",
       "      <td>3</td>\n",
       "      <td>0.782609</td>\n",
       "      <td>0.759091</td>\n",
       "      <td>36.000000</td>\n",
       "      <td>1</td>\n",
       "      <td>0</td>\n",
       "      <td>0.390048</td>\n",
       "      <td>17.4000</td>\n",
       "      <td>0.348214</td>\n",
       "    </tr>\n",
       "    <tr>\n",
       "      <th>635</th>\n",
       "      <td>2</td>\n",
       "      <td>0.736000</td>\n",
       "      <td>0.759091</td>\n",
       "      <td>28.000000</td>\n",
       "      <td>0</td>\n",
       "      <td>0</td>\n",
       "      <td>0.390048</td>\n",
       "      <td>13.0000</td>\n",
       "      <td>0.348214</td>\n",
       "    </tr>\n",
       "    <tr>\n",
       "      <th>224</th>\n",
       "      <td>1</td>\n",
       "      <td>0.152778</td>\n",
       "      <td>0.188586</td>\n",
       "      <td>38.000000</td>\n",
       "      <td>1</td>\n",
       "      <td>0</td>\n",
       "      <td>0.835959</td>\n",
       "      <td>90.0000</td>\n",
       "      <td>0.348214</td>\n",
       "    </tr>\n",
       "  </tbody>\n",
       "</table>\n",
       "<p>623 rows × 9 columns</p>\n",
       "</div>"
      ],
      "text/plain": [
       "     Pclass     Title       Sex        Age  SibSp  Parch    Ticket      Fare  \\\n",
       "497       3  0.152778  0.188586  29.699118      0      0  0.390048   15.1000   \n",
       "365       3  0.152778  0.188586  30.000000      0      0  0.390048    7.2500   \n",
       "319       1  0.782609  0.759091  40.000000      1      1  0.835959  134.5000   \n",
       "491       3  0.152778  0.188586  21.000000      0      0  0.390048    7.2500   \n",
       "176       3  0.580645  0.188586  29.699118      3      1  0.104900   25.4667   \n",
       "..      ...       ...       ...        ...    ...    ...       ...       ...   \n",
       "246       3  0.736000  0.759091  25.000000      0      0  0.390048    7.7750   \n",
       "314       2  0.152778  0.188586  43.000000      1      1  0.633693   26.2500   \n",
       "559       3  0.782609  0.759091  36.000000      1      0  0.390048   17.4000   \n",
       "635       2  0.736000  0.759091  28.000000      0      0  0.390048   13.0000   \n",
       "224       1  0.152778  0.188586  38.000000      1      0  0.835959   90.0000   \n",
       "\n",
       "     Embarked  \n",
       "497  0.348214  \n",
       "365  0.348214  \n",
       "319  0.546218  \n",
       "491  0.348214  \n",
       "176  0.348214  \n",
       "..        ...  \n",
       "246  0.348214  \n",
       "314  0.348214  \n",
       "559  0.348214  \n",
       "635  0.348214  \n",
       "224  0.348214  \n",
       "\n",
       "[623 rows x 9 columns]"
      ]
     },
     "execution_count": 44,
     "metadata": {},
     "output_type": "execute_result"
    }
   ],
   "source": [
    "x_train"
   ]
  },
  {
   "cell_type": "markdown",
   "id": "058d487f-fef7-4a84-86a2-e08a22463366",
   "metadata": {},
   "source": [
    "### Standard Scaler"
   ]
  },
  {
   "cell_type": "code",
   "execution_count": 45,
   "id": "a1b74e57-9673-4a3e-9c88-8209a6a1261b",
   "metadata": {},
   "outputs": [],
   "source": [
    "scaler_x = StandardScaler()\n",
    "scaler_x.fit(x_train)\n",
    "\n",
    "x_train = scaler_x.transform(x_train)\n",
    "x_test = scaler_x.transform(x_test)"
   ]
  },
  {
   "cell_type": "markdown",
   "id": "054d9474-1b41-4038-b41b-026f21eb6839",
   "metadata": {},
   "source": [
    "## Naive Bayes"
   ]
  },
  {
   "cell_type": "code",
   "execution_count": 46,
   "id": "240cbd82-8eaa-44f6-b0db-d8412bfb924a",
   "metadata": {},
   "outputs": [
    {
     "name": "stdout",
     "output_type": "stream",
     "text": [
      "              precision    recall  f1-score   support\n",
      "\n",
      "           0       0.82      0.86      0.84       169\n",
      "           1       0.74      0.69      0.71        99\n",
      "\n",
      "    accuracy                           0.79       268\n",
      "   macro avg       0.78      0.77      0.78       268\n",
      "weighted avg       0.79      0.79      0.79       268\n",
      "\n"
     ]
    }
   ],
   "source": [
    "model_naive = GaussianNB()\n",
    "model_naive.fit(x_train, y_train)\n",
    "predict_naive = model_naive.predict(x_test)\n",
    "print(classification_report(y_test, predict_naive))"
   ]
  },
  {
   "cell_type": "markdown",
   "id": "e0cb4f26-4101-418b-b45d-e5d430c9ec5e",
   "metadata": {},
   "source": [
    "## Random Forest"
   ]
  },
  {
   "cell_type": "code",
   "execution_count": 47,
   "id": "c73ee79b-9f15-411c-9353-88d5e8890f39",
   "metadata": {},
   "outputs": [
    {
     "name": "stdout",
     "output_type": "stream",
     "text": [
      "              precision    recall  f1-score   support\n",
      "\n",
      "           0       0.84      0.87      0.85       169\n",
      "           1       0.76      0.71      0.73        99\n",
      "\n",
      "    accuracy                           0.81       268\n",
      "   macro avg       0.80      0.79      0.79       268\n",
      "weighted avg       0.81      0.81      0.81       268\n",
      "\n"
     ]
    }
   ],
   "source": [
    "# baseline randomforest\n",
    "model = RandomForestClassifier(random_state=8)\n",
    "model.fit(x_train, y_train)\n",
    "\n",
    "predictions = model.predict(x_test)\n",
    "f1_score(y_test, predictions)\n",
    "print(classification_report(y_test, predictions))"
   ]
  },
  {
   "cell_type": "markdown",
   "id": "e52b90da-b937-4337-bbfd-8506eb0fc371",
   "metadata": {},
   "source": [
    "## KNN"
   ]
  },
  {
   "cell_type": "code",
   "execution_count": 48,
   "id": "ce11787b-ee7c-4768-9a93-0ad770276357",
   "metadata": {},
   "outputs": [
    {
     "name": "stdout",
     "output_type": "stream",
     "text": [
      "              precision    recall  f1-score   support\n",
      "\n",
      "           0       0.85      0.88      0.86       169\n",
      "           1       0.77      0.73      0.75        99\n",
      "\n",
      "    accuracy                           0.82       268\n",
      "   macro avg       0.81      0.80      0.81       268\n",
      "weighted avg       0.82      0.82      0.82       268\n",
      "\n"
     ]
    }
   ],
   "source": [
    "knn_fit = KNeighborsClassifier(n_neighbors=5, metric='minkowski', p = 2)\n",
    "knn_fit.fit(x_train, y_train)\n",
    "knn_predictions = knn_fit.predict(x_test)\n",
    "print(classification_report(y_test, knn_predictions))"
   ]
  },
  {
   "cell_type": "markdown",
   "id": "b4e2e866-3a5f-4b6c-9290-e1fabce15953",
   "metadata": {},
   "source": [
    "## Logistc Regression"
   ]
  },
  {
   "cell_type": "code",
   "execution_count": 49,
   "id": "6f46032b-ca72-4dd0-94c5-1496db299d1a",
   "metadata": {},
   "outputs": [
    {
     "name": "stdout",
     "output_type": "stream",
     "text": [
      "              precision    recall  f1-score   support\n",
      "\n",
      "           0       0.83      0.87      0.85       169\n",
      "           1       0.76      0.70      0.73        99\n",
      "\n",
      "    accuracy                           0.81       268\n",
      "   macro avg       0.79      0.78      0.79       268\n",
      "weighted avg       0.80      0.81      0.80       268\n",
      "\n"
     ]
    }
   ],
   "source": [
    "logistc_fit = LogisticRegression(random_state=1)\n",
    "logistc_fit.fit(x_train, y_train)\n",
    "logistc_prediction = logistc_fit.predict(x_test)\n",
    "print(classification_report(y_test, logistc_prediction))"
   ]
  },
  {
   "cell_type": "code",
   "execution_count": null,
   "id": "56c63ff4-6372-4181-882d-6a233e4f0c5d",
   "metadata": {},
   "outputs": [],
   "source": []
  }
 ],
 "metadata": {
  "kernelspec": {
   "display_name": "titanic",
   "language": "python",
   "name": "titanic"
  },
  "language_info": {
   "codemirror_mode": {
    "name": "ipython",
    "version": 3
   },
   "file_extension": ".py",
   "mimetype": "text/x-python",
   "name": "python",
   "nbconvert_exporter": "python",
   "pygments_lexer": "ipython3",
   "version": "3.9.6"
  }
 },
 "nbformat": 4,
 "nbformat_minor": 5
}
